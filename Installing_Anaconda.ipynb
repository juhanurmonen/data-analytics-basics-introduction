{
 "cells": [
  {
   "cell_type": "markdown",
   "id": "ffbc2a3b",
   "metadata": {},
   "source": [
    "# Installing Anaconda"
   ]
  },
  {
   "cell_type": "markdown",
   "id": "2dd3e06b",
   "metadata": {},
   "source": [
    "Essential Python skills for data analytics purposes can be learned rather easily even with no prior programming exprerience."
   ]
  },
  {
   "cell_type": "markdown",
   "id": "ee2fc83f",
   "metadata": {},
   "source": [
    "First, a programming environment is needed. For data analytics purposes it is recommended to install **Anaconda**. Anaconda includes\n",
    "\n",
    "- Python interpretator\n",
    "- programming libraries suitable for data analytics (**NumPy, pandas**, etc.)\n",
    "- programming libraries suitable for graphical representation (**matplotlib, seaborn**, etc.)\n",
    "- programming libraries suitable for machine learning models (**scikit-learn** etc.)\n",
    "- **Jupyter notebook** for writing and running programs."
   ]
  },
  {
   "cell_type": "markdown",
   "id": "965f6615",
   "metadata": {},
   "source": [
    "Anaconda for Windows, Mac and Linux can be found at"
   ]
  },
  {
   "cell_type": "markdown",
   "id": "0bbf81ec",
   "metadata": {},
   "source": [
    "<center>\n",
    "<a href=\"https://www.anaconda.com/products/individual\">    https://www.anaconda.com/products/individual</a>.\n",
    "</center>"
   ]
  },
  {
   "cell_type": "markdown",
   "id": "de4ecdff",
   "metadata": {},
   "source": [
    "Choose the operating system of your computer (if needed) and install Anaconda using default settings. After installation it is worth opening and looking into **Anaconda Navigator**. "
   ]
  },
  {
   "cell_type": "markdown",
   "id": "f59f521b",
   "metadata": {},
   "source": [
    "In the section **Environments** of Anaconda Navigator it is possible to update programming libraries so that dependences of versions are maintained. The same of course applies if updating is done using Anaconda Prompt. Updating libraries becomes timely if you wish to use new properties added to later library versions."
   ]
  },
  {
   "cell_type": "markdown",
   "id": "d3a66c91",
   "metadata": {},
   "source": [
    "User guides and useful documents can be found at"
   ]
  },
  {
   "cell_type": "markdown",
   "id": "9640ecf7",
   "metadata": {},
   "source": [
    "<center>\n",
    "    <a href=\"https://docs.anaconda.com/anaconda/\">https://docs.anaconda.com/anaconda/</a>.\n",
    "</center>"
   ]
  },
  {
   "cell_type": "markdown",
   "id": "2de14643",
   "metadata": {},
   "source": [
    "Source and origin of inspiration:<br /> \n",
    "Aki Taanila: Data-analytiikka Pythonilla: <a href=\"https://tilastoapu.wordpress.com/python/\">https://tilastoapu.wordpress.com/python/</a>"
   ]
  }
 ],
 "metadata": {
  "kernelspec": {
   "display_name": "Python 3",
   "language": "python",
   "name": "python3"
  },
  "language_info": {
   "codemirror_mode": {
    "name": "ipython",
    "version": 3
   },
   "file_extension": ".py",
   "mimetype": "text/x-python",
   "name": "python",
   "nbconvert_exporter": "python",
   "pygments_lexer": "ipython3",
   "version": "3.7.11"
  }
 },
 "nbformat": 4,
 "nbformat_minor": 5
}
